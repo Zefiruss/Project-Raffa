{
 "cells": [
  {
   "cell_type": "code",
   "execution_count": 1,
   "id": "309dabb9-e570-4d6f-b227-5f2fdd40736b",
   "metadata": {
    "executionInfo": {
     "elapsed": 584,
     "status": "ok",
     "timestamp": 1671520030242,
     "user": {
      "displayName": "Stephanie Fani",
      "userId": "03013489333346707504"
     },
     "user_tz": -420
    },
    "id": "309dabb9-e570-4d6f-b227-5f2fdd40736b"
   },
   "outputs": [],
   "source": [
    "#Import Libraries\n",
    "import pandas as pd\n",
    "import numpy as np\n",
    "import scipy.stats as stats"
   ]
  },
  {
   "cell_type": "code",
   "execution_count": 2,
   "id": "56587e98-c378-44b9-93f0-d796b76124ff",
   "metadata": {
    "colab": {
     "base_uri": "https://localhost:8080/",
     "height": 833
    },
    "executionInfo": {
     "elapsed": 4,
     "status": "ok",
     "timestamp": 1671520030243,
     "user": {
      "displayName": "Stephanie Fani",
      "userId": "03013489333346707504"
     },
     "user_tz": -420
    },
    "id": "56587e98-c378-44b9-93f0-d796b76124ff",
    "outputId": "34e681a7-bda2-4ea7-c895-b08208412753"
   },
   "outputs": [],
   "source": [
    "#Create DataFrame\n",
    "transaction_data = [100, 150, 50, 100, 130, 120, 100, 85, 70, 150,\n",
    "                   150, 120, 50, 100, 100, 140, 90, 150, 50, 90,\n",
    "                   120, 100, 110, 75, 65]\n",
    "df = pd.DataFrame(transaction_data, columns = ['TransactionsAmount'])"
   ]
  },
  {
   "cell_type": "code",
   "execution_count": 3,
   "id": "8601a923-dd83-4177-bbc7-35cc5e622ddb",
   "metadata": {
    "colab": {
     "base_uri": "https://localhost:8080/"
    },
    "executionInfo": {
     "elapsed": 6,
     "status": "ok",
     "timestamp": 1671520030708,
     "user": {
      "displayName": "Stephanie Fani",
      "userId": "03013489333346707504"
     },
     "user_tz": -420
    },
    "id": "KOFYWfvUtfMx",
    "outputId": "4d59d08d-7da4-4d66-c8e2-35761e1ac331"
   },
   "outputs": [
    {
     "name": "stdout",
     "output_type": "stream",
     "text": [
      "102.6\n",
      "100\n",
      "100\n"
     ]
    }
   ],
   "source": [
    "#Central Tendency\n",
    "import statistics\n",
    "print(statistics.mean(df['TransactionsAmount']))\n",
    "print(statistics.median(df['TransactionsAmount']))\n",
    "print(statistics.mode(df['TransactionsAmount']))"
   ]
  },
  {
   "cell_type": "markdown",
   "id": "507e451d-ee6a-415f-9a21-49f438087635",
   "metadata": {
    "executionInfo": {
     "elapsed": 1,
     "status": "ok",
     "timestamp": 1671520033894,
     "user": {
      "displayName": "Stephanie Fani",
      "userId": "03013489333346707504"
     },
     "user_tz": -420
    },
    "id": "ceRxEGdTt966"
   },
   "source": [
    "#Tulis analisismu dari Central Tendency di sini\n",
    "\n",
    "dapat diketahui bahwa nilai mean dari data TransactionAmount bernilai 102.6, mediannya bernilai 100, dan \n",
    "nilai yang sering muncul atau modusnya bernilai 100"
   ]
  },
  {
   "cell_type": "code",
   "execution_count": 4,
   "id": "8fdc6e57-fae5-4d6f-876a-9639d61081b8",
   "metadata": {
    "colab": {
     "base_uri": "https://localhost:8080/"
    },
    "executionInfo": {
     "elapsed": 525,
     "status": "ok",
     "timestamp": 1671520041794,
     "user": {
      "displayName": "Stephanie Fani",
      "userId": "03013489333346707504"
     },
     "user_tz": -420
    },
    "id": "UcbHy344uQ-G",
    "outputId": "0efd8348-3879-4a79-8085-fd842b5d1a60"
   },
   "outputs": [
    {
     "name": "stdout",
     "output_type": "stream",
     "text": [
      "972.2399999999997\n",
      "31.180763300471007\n",
      "150 & 50\n",
      "85.0\n",
      "100.0\n",
      "120.0\n"
     ]
    }
   ],
   "source": [
    "#Variability\n",
    "import numpy as np\n",
    "print(np.var(df['TransactionsAmount']))\n",
    "print(np.std(df['TransactionsAmount']))\n",
    "print(np.max(df['TransactionsAmount']),'&', np.min(df['TransactionsAmount']))\n",
    "print(np.quantile(df['TransactionsAmount'], 0.25))\n",
    "print(np.quantile(df['TransactionsAmount'], 0.50))\n",
    "print(np.quantile(df['TransactionsAmount'], 0.75))"
   ]
  },
  {
   "cell_type": "markdown",
   "id": "e21fecc3-cdb0-4612-b51f-f71d657c274c",
   "metadata": {
    "executionInfo": {
     "elapsed": 854,
     "status": "ok",
     "timestamp": 1671520098187,
     "user": {
      "displayName": "Stephanie Fani",
      "userId": "03013489333346707504"
     },
     "user_tz": -420
    },
    "id": "v_dl9Fneuabm"
   },
   "source": [
    "#Tulis analisismu dari Variability di sini\n",
    "\n",
    "nilai variance dari data bernilai 972.2399999999997, dengan nilai std sebesar 31.180763300471007,\n",
    "nilai tertinggi 150, sedangkan nilai terendah bernilai 50\n",
    "nilai Q1 sebesar 85.0, Q2 sebesar 100.0 dan Q3 bernilai 120.0"
   ]
  },
  {
   "cell_type": "code",
   "execution_count": 5,
   "id": "3786f132-4bd1-4c72-a5d9-1044aa088818",
   "metadata": {
    "executionInfo": {
     "elapsed": 1,
     "status": "ok",
     "timestamp": 1671520106679,
     "user": {
      "displayName": "Stephanie Fani",
      "userId": "03013489333346707504"
     },
     "user_tz": -420
    },
    "id": "3786f132-4bd1-4c72-a5d9-1044aa088818"
   },
   "outputs": [],
   "source": [
    "#Define H0 and H1\n",
    "#H0: nilai rata-rata per transaksi = $100\n",
    "#H1: nilai rata-rata per transaksi > $100"
   ]
  },
  {
   "cell_type": "code",
   "execution_count": 6,
   "id": "b8103158-ecda-478d-9926-7ec0dcfc5c12",
   "metadata": {
    "executionInfo": {
     "elapsed": 624,
     "status": "ok",
     "timestamp": 1671520113997,
     "user": {
      "displayName": "Stephanie Fani",
      "userId": "03013489333346707504"
     },
     "user_tz": -420
    },
    "id": "b8103158-ecda-478d-9926-7ec0dcfc5c12"
   },
   "outputs": [],
   "source": [
    "#Define alpha = 0.05"
   ]
  },
  {
   "cell_type": "code",
   "execution_count": 7,
   "id": "686e0fc4-84d5-4712-ae90-b47eb3ea44ac",
   "metadata": {
    "colab": {
     "base_uri": "https://localhost:8080/"
    },
    "executionInfo": {
     "elapsed": 2,
     "status": "ok",
     "timestamp": 1671520114452,
     "user": {
      "displayName": "Stephanie Fani",
      "userId": "03013489333346707504"
     },
     "user_tz": -420
    },
    "id": "686e0fc4-84d5-4712-ae90-b47eb3ea44ac",
    "outputId": "42c97137-4bef-4516-8b06-654df3bbaa93"
   },
   "outputs": [
    {
     "data": {
      "text/plain": [
       "TtestResult(statistic=0.4085001556802841, pvalue=0.6865284813438117, df=24)"
      ]
     },
     "execution_count": 7,
     "metadata": {},
     "output_type": "execute_result"
    }
   ],
   "source": [
    "#Calculate t statistics and P-value\n",
    "#Perform one sample t-test\n",
    "data = np.array(df['TransactionsAmount'])\n",
    "pop_mean = 100\n",
    "stats.ttest_1samp(data, pop_mean)"
   ]
  },
  {
   "cell_type": "code",
   "execution_count": 8,
   "id": "a5cd58f8-792f-4957-8a6b-2719ef85a2ef",
   "metadata": {},
   "outputs": [],
   "source": [
    "#statistic= 0.4085001556802841 , pvalue=0.6865284813438117"
   ]
  },
  {
   "cell_type": "markdown",
   "id": "8c15fec6-fd0c-4902-b261-33ea0f29db95",
   "metadata": {
    "executionInfo": {
     "elapsed": 435,
     "status": "ok",
     "timestamp": 1671520140175,
     "user": {
      "displayName": "Stephanie Fani",
      "userId": "03013489333346707504"
     },
     "user_tz": -420
    },
    "id": "35c7de5f-3992-4872-98ea-9e9269b1557b"
   },
   "source": [
    "Conclude with alpha and p-value\n",
    "\n",
    "Conclusion: Karena nilai p value (0.6865284813438117) lebih besar dari tingkat signifikansi (0.05), maka kita gagal menolak hipotesis nol. \n",
    "             Oleh karena itu, sales force training tidak memiliki efek yang signifikan secara statistik terhadap rata-rata per transaksi, karena nilai per transaksi masih berkisar $100"
   ]
  },
  {
   "cell_type": "code",
   "execution_count": 9,
   "id": "9580db55-a594-4c1b-a5e6-3787906505c2",
   "metadata": {
    "executionInfo": {
     "elapsed": 1,
     "status": "ok",
     "timestamp": 1671520143687,
     "user": {
      "displayName": "Stephanie Fani",
      "userId": "03013489333346707504"
     },
     "user_tz": -420
    },
    "id": "9580db55-a594-4c1b-a5e6-3787906505c2"
   },
   "outputs": [],
   "source": [
    "#Conclude with t statistics and critical region\n",
    "#Find the critical region"
   ]
  },
  {
   "cell_type": "code",
   "execution_count": 10,
   "id": "1429f038",
   "metadata": {},
   "outputs": [
    {
     "data": {
      "text/plain": [
       "1.7108820799094275"
      ]
     },
     "execution_count": 10,
     "metadata": {},
     "output_type": "execute_result"
    }
   ],
   "source": [
    "#H1: lebih besar\n",
    "stats.t.ppf(1-0.05, 24)"
   ]
  },
  {
   "cell_type": "code",
   "execution_count": 11,
   "id": "d6595428-5211-4cf7-bb61-ca8e201e6ef6",
   "metadata": {
    "executionInfo": {
     "elapsed": 1,
     "status": "ok",
     "timestamp": 1671520153697,
     "user": {
      "displayName": "Stephanie Fani",
      "userId": "03013489333346707504"
     },
     "user_tz": -420
    },
    "id": "d6595428-5211-4cf7-bb61-ca8e201e6ef6"
   },
   "outputs": [],
   "source": [
    "#Critical region result\n",
    "#karena t-statistic tidak berada pada critical regional, maka gagal menolak H0\n",
    "#Conclusion: sales force training tidak efektif, rata-rata per transaksi masih berkisar $100 "
   ]
  },
  {
   "cell_type": "code",
   "execution_count": null,
   "id": "010e90b4-bf0a-4631-b6dd-6c7f0bd6ccf4",
   "metadata": {},
   "outputs": [],
   "source": []
  }
 ],
 "metadata": {
  "colab": {
   "provenance": []
  },
  "kernelspec": {
   "display_name": "Python 3 (ipykernel)",
   "language": "python",
   "name": "python3"
  },
  "language_info": {
   "codemirror_mode": {
    "name": "ipython",
    "version": 3
   },
   "file_extension": ".py",
   "mimetype": "text/x-python",
   "name": "python",
   "nbconvert_exporter": "python",
   "pygments_lexer": "ipython3",
   "version": "3.11.7"
  },
  "vscode": {
   "interpreter": {
    "hash": "5e70fd34aa919644e731ce0c71c5ec6c66d3b48eb7909f9a04da7ee7076ef028"
   }
  }
 },
 "nbformat": 4,
 "nbformat_minor": 5
}
